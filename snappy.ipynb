{
 "cells": [
  {
   "cell_type": "markdown",
   "metadata": {},
   "source": [
    "# Snap.py 101"
   ]
  },
  {
   "cell_type": "markdown",
   "metadata": {},
   "source": [
    "This notebook demonstrates some functionalities of Snap.py by analyzing the [high-energy physics citation network](http://snap.stanford.edu/data/cit-HepPh.html) as a simple demonstration."
   ]
  },
  {
   "cell_type": "code",
   "execution_count": 1,
   "metadata": {},
   "outputs": [],
   "source": [
    "import snap"
   ]
  },
  {
   "cell_type": "code",
   "execution_count": 2,
   "metadata": {},
   "outputs": [],
   "source": [
    "DATASET_URL = 'datasets/cit-HepPh.txt'"
   ]
  },
  {
   "cell_type": "code",
   "execution_count": 3,
   "metadata": {},
   "outputs": [],
   "source": [
    "g = snap.LoadEdgeList(snap.PNGraph, DATASET_URL, 0, 1)"
   ]
  },
  {
   "cell_type": "code",
   "execution_count": 4,
   "metadata": {},
   "outputs": [
    {
     "data": {
      "text/plain": [
       "['AddEdge',\n",
       " 'AddEdge2',\n",
       " 'AddEdgeUnchecked',\n",
       " 'AddNode',\n",
       " 'AddNodeUnchecked',\n",
       " 'BegEI',\n",
       " 'BegNI',\n",
       " 'Clr',\n",
       " 'Defrag',\n",
       " 'DelEdge',\n",
       " 'DelNode',\n",
       " 'Dump',\n",
       " 'Edges',\n",
       " 'Empty',\n",
       " 'EndEI',\n",
       " 'EndNI',\n",
       " 'GetEI',\n",
       " 'GetEdges',\n",
       " 'GetMxNId',\n",
       " 'GetNI',\n",
       " 'GetNIdV',\n",
       " 'GetNodes',\n",
       " 'GetRefs',\n",
       " 'GetRndNI',\n",
       " 'GetRndNId',\n",
       " 'GetSmallGraph',\n",
       " 'HasFlag',\n",
       " 'IsEdge',\n",
       " 'IsNode',\n",
       " 'IsOk',\n",
       " 'Load',\n",
       " 'LoadShM',\n",
       " 'New',\n",
       " 'Nodes',\n",
       " 'Reserve',\n",
       " 'ReserveNIdInDeg',\n",
       " 'ReserveNIdOutDeg',\n",
       " 'Save',\n",
       " 'SortNodeAdjV',\n",
       " '__call__',\n",
       " '__class__',\n",
       " '__delattr__',\n",
       " '__deref__',\n",
       " '__dict__',\n",
       " '__dir__',\n",
       " '__doc__',\n",
       " '__eq__',\n",
       " '__format__',\n",
       " '__ge__',\n",
       " '__getattribute__',\n",
       " '__gt__',\n",
       " '__hash__',\n",
       " '__init__',\n",
       " '__init_subclass__',\n",
       " '__le__',\n",
       " '__lt__',\n",
       " '__module__',\n",
       " '__ne__',\n",
       " '__new__',\n",
       " '__reduce__',\n",
       " '__reduce_ex__',\n",
       " '__ref__',\n",
       " '__repr__',\n",
       " '__setattr__',\n",
       " '__sizeof__',\n",
       " '__str__',\n",
       " '__subclasshook__',\n",
       " '__swig_destroy__',\n",
       " '__weakref__',\n",
       " 'this',\n",
       " 'thisown']"
      ]
     },
     "execution_count": 4,
     "metadata": {},
     "output_type": "execute_result"
    }
   ],
   "source": [
    "dir(g)"
   ]
  },
  {
   "cell_type": "code",
   "execution_count": 8,
   "metadata": {},
   "outputs": [
    {
     "name": "stdout",
     "output_type": "stream",
     "text": [
      "(9907233, 9301253)\n",
      "(9907233, 9504304)\n",
      "(9907233, 9505235)\n",
      "(9907233, 9506257)\n",
      "(9907233, 9606402)\n",
      "(9907233, 9607354)\n",
      "(9907233, 9611297)\n",
      "(9907233, 9702314)\n",
      "(9907233, 9704296)\n",
      "(9907233, 9803214)\n",
      "(9907233, 9903217)\n"
     ]
    }
   ],
   "source": [
    "\n",
    "for i, edge in enumerate(g.Edges()):\n",
    "    print(f\"({edge.GetSrcNId()}, {edge.GetDstNId()})\")\n",
    "    if i == 10:\n",
    "        break"
   ]
  },
  {
   "cell_type": "code",
   "execution_count": null,
   "metadata": {},
   "outputs": [],
   "source": []
  }
 ],
 "metadata": {
  "kernelspec": {
   "display_name": "Python 3",
   "language": "python",
   "name": "python3"
  },
  "language_info": {
   "codemirror_mode": {
    "name": "ipython",
    "version": 3
   },
   "file_extension": ".py",
   "mimetype": "text/x-python",
   "name": "python",
   "nbconvert_exporter": "python",
   "pygments_lexer": "ipython3",
   "version": "3.7.7"
  }
 },
 "nbformat": 4,
 "nbformat_minor": 4
}
